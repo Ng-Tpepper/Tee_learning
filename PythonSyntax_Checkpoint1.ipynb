{
 "cells": [
  {
   "cell_type": "markdown",
   "id": "1311b8d9-d2f3-4a32-8702-106fb74da7d8",
   "metadata": {},
   "source": [
    "### TPEPPERS PIZZA\n",
    "On this checkpoint my first job is to build an automatic pizza order program"
   ]
  },
  {
   "cell_type": "code",
   "execution_count": 18,
   "id": "b70e8b8f-26a3-427f-9e40-2b8ef593069d",
   "metadata": {},
   "outputs": [
    {
     "name": "stdout",
     "output_type": "stream",
     "text": [
      "Welcome to Tpeppers Pizza Deliveries\n"
     ]
    }
   ],
   "source": [
    "# Welcome message\n",
    "print(\"Welcome to Tpeppers Pizza Deliveries\")"
   ]
  },
  {
   "cell_type": "code",
   "execution_count": 22,
   "id": "d759c7c3-d625-4418-a996-5037031db847",
   "metadata": {},
   "outputs": [
    {
     "name": "stdin",
     "output_type": "stream",
     "text": [
      "Kindly choose desired size? (S/M/L):  L\n"
     ]
    }
   ],
   "source": [
    "# Prompting user for pizza size\n",
    "size = input(\"Kindly choose desired size? (S/M/L): \").strip().upper()"
   ]
  },
  {
   "cell_type": "code",
   "execution_count": 24,
   "id": "3367f29a-2327-41a3-9f39-959ecbd831b9",
   "metadata": {},
   "outputs": [
    {
     "name": "stdin",
     "output_type": "stream",
     "text": [
      "Do indicate for pepperoni? (Y/N):  L\n"
     ]
    }
   ],
   "source": [
    "# Prompting user for pepperoni preference\n",
    "add_pepperoni = input(\"Do indicate for pepperoni? (Y/N): \").strip().upper()"
   ]
  },
  {
   "cell_type": "code",
   "execution_count": 26,
   "id": "73809489-d3cc-4d05-a40c-b65e5245b3ea",
   "metadata": {},
   "outputs": [
    {
     "name": "stdin",
     "output_type": "stream",
     "text": [
      "Do indicate for chicken suya? (Y/N):  Y\n"
     ]
    }
   ],
   "source": [
    "# Prompting user for chicken suya preference\n",
    "add_chicken_suya= input(\"Do indicate for chicken suya? (Y/N): \").strip().upper()"
   ]
  },
  {
   "cell_type": "code",
   "execution_count": 28,
   "id": "cd754e88-baea-4cab-95e4-5ab960123a6d",
   "metadata": {},
   "outputs": [
    {
     "name": "stdin",
     "output_type": "stream",
     "text": [
      " extra cheese? (Y/N):  Y\n"
     ]
    }
   ],
   "source": [
    "# Prompting user for cheese preference\n",
    "add_cheese = input(\" extra cheese? (Y/N): \").strip().upper()"
   ]
  },
  {
   "cell_type": "code",
   "execution_count": 12,
   "id": "29a54bb5-114d-4cb5-b77b-594a4572ce23",
   "metadata": {},
   "outputs": [
    {
     "name": "stdin",
     "output_type": "stream",
     "text": [
      "indicate for soda? (Y/N):  Y\n"
     ]
    }
   ],
   "source": [
    "# Prompting user for Drinks preference\n",
    "add_Pepsi = input(\"indicate for soda? (Y/N): \").strip().upper()"
   ]
  },
  {
   "cell_type": "code",
   "execution_count": 14,
   "id": "c20739c1-9e83-4dfe-95ff-719cd7e6cc4b",
   "metadata": {},
   "outputs": [
    {
     "name": "stdin",
     "output_type": "stream",
     "text": [
      " Any Extras e.g chicken wings? (Y/N):  Y\n"
     ]
    }
   ],
   "source": [
    "# Prompting user for extra chicken preference\n",
    "add_chicken_wings = input(\" Any Extras e.g chicken wings? (Y/N): \").strip().upper()"
   ]
  },
  {
   "cell_type": "markdown",
   "id": "894427a8-718a-491a-901c-ebc59d4e3000",
   "metadata": {},
   "source": [
    "# Now Initialize bill variable"
   ]
  },
  {
   "cell_type": "code",
   "execution_count": 31,
   "id": "d6c1920a-db8a-42ca-bb0d-241a3d7338fc",
   "metadata": {},
   "outputs": [],
   "source": [
    "# Initialize bill variable\n",
    "bill = 0"
   ]
  },
  {
   "cell_type": "code",
   "execution_count": 33,
   "id": "0806608f-6496-4861-bafe-804775bd445c",
   "metadata": {},
   "outputs": [],
   "source": [
    "# Determine base price based on pizza size\n",
    "if size == \"S\":\n",
    "    bill += 15\n",
    "elif size == \"M\":\n",
    "    bill += 20\n",
    "elif size == \"L\":\n",
    "    bill += 25"
   ]
  },
  {
   "cell_type": "code",
   "execution_count": 35,
   "id": "663636ff-87de-43b6-8cf5-1ea7ad804631",
   "metadata": {},
   "outputs": [],
   "source": [
    "# Add cost for pepperoni\n",
    "if add_pepperoni == \"Y\":\n",
    "    if size == \"S\":\n",
    "        bill += 2\n",
    "    else:  # Medium or Large\n",
    "        bill += 3"
   ]
  },
  {
   "cell_type": "code",
   "execution_count": 37,
   "id": "22d13ae0-537a-40f3-abb7-fc6308d67e95",
   "metadata": {},
   "outputs": [],
   "source": [
    "# Add cost for Pepsi\n",
    "if add_Pepsi == \"Y\":\n",
    "        bill += 5"
   ]
  },
  {
   "cell_type": "code",
   "execution_count": 39,
   "id": "7349182f-c8eb-4c37-bbd5-36bef8af2622",
   "metadata": {},
   "outputs": [],
   "source": [
    "# Add cost for chicken suya\n",
    "if add_chicken_suya == \"Y\":\n",
    "        bill += 4"
   ]
  },
  {
   "cell_type": "code",
   "execution_count": 41,
   "id": "a0c5e66e-6001-4a22-8de2-0a74b91cf373",
   "metadata": {},
   "outputs": [],
   "source": [
    "# Add cost for extra cheese\n",
    "if add_cheese == \"Y\":\n",
    "        bill += 3"
   ]
  },
  {
   "cell_type": "code",
   "execution_count": 43,
   "id": "4e687f37-1cd7-40cf-a293-c8688261a95d",
   "metadata": {},
   "outputs": [],
   "source": [
    "# Add cost for extra chicken\n",
    "if add_chicken_wings == \"Y\":\n",
    "        bill += 7"
   ]
  },
  {
   "cell_type": "code",
   "execution_count": 45,
   "id": "6dcc998d-f425-4e10-b56f-f283471b8c22",
   "metadata": {},
   "outputs": [
    {
     "name": "stdout",
     "output_type": "stream",
     "text": [
      "Your final bill is: $44.\n"
     ]
    }
   ],
   "source": [
    "# Output the final bill\n",
    "print(f\"Your final bill is: ${bill}.\")"
   ]
  },
  {
   "cell_type": "code",
   "execution_count": 49,
   "id": "4a52fb36-6908-4f6f-93aa-7034c9d61218",
   "metadata": {},
   "outputs": [
    {
     "name": "stdout",
     "output_type": "stream",
     "text": [
      "Welcome to Tpeppers Pizza Deliveries\n"
     ]
    },
    {
     "name": "stdin",
     "output_type": "stream",
     "text": [
      "Kindly choose desired size? (S/M/L):  L\n",
      "Do indicate for pepperoni? (Y/N):  Y\n",
      "Do indicate for chicken suya? (Y/N):  Y\n",
      "extra cheese? (Y/N):  Y\n",
      "indicate for soda? (Y/N):  Y\n",
      "Any extra e.g: chicken wings? (Y/N):  Y\n"
     ]
    },
    {
     "name": "stdout",
     "output_type": "stream",
     "text": [
      "Your final bill is: $44.\n"
     ]
    }
   ],
   "source": [
    "# Welcome message\n",
    "print(\"Welcome to Tpeppers Pizza Deliveries\")\n",
    "\n",
    "# Prompting user for pizza size\n",
    "size = input(\"Kindly choose desired size? (S/M/L): \").strip().upper()\n",
    "\n",
    "# Prompting user for pepperoni preference\n",
    "add_pepperoni = input(\"Do indicate for pepperoni? (Y/N): \").strip().upper()\n",
    "\n",
    "# Prompting user for chicken suya preference\n",
    "add_chicken_suya= input(\"Do indicate for chicken suya? (Y/N): \").strip().upper()\n",
    "\n",
    "# Prompting user for cheese preference\n",
    "add_cheese = input(\"extra cheese? (Y/N): \").strip().upper()\n",
    "\n",
    "# Prompting user for Drinks preference\n",
    "add_Pepsi = input(\"indicate for soda? (Y/N): \").strip().upper()\n",
    "\n",
    "# Prompting user for extra chicken preference\n",
    "add_chicken_wings = input(\"Any extra e.g: chicken wings? (Y/N): \").strip().upper()\n",
    "\n",
    "\n",
    "# Initialize bill variable\n",
    "bill = 0\n",
    "\n",
    "\n",
    "# Determine base price based on pizza size\n",
    "if size == \"S\":\n",
    "    bill += 15\n",
    "elif size == \"M\":\n",
    "    bill += 20\n",
    "elif size == \"L\":\n",
    "    bill += 25\n",
    "\n",
    "# Add cost for Pepsi\n",
    "if add_Pepsi == \"Y\":\n",
    "        bill += 5\n",
    "\n",
    "# Add cost for chicken suya\n",
    "if add_chicken_suya == \"Y\":\n",
    "        bill += 4\n",
    "\n",
    "# Add cost for extra cheese\n",
    "if add_cheese == \"Y\":\n",
    "        bill += 3\n",
    "\n",
    "# Add cost for extra chicken\n",
    "if add_chicken_wings == \"Y\":\n",
    "        bill += 7\n",
    "\n",
    "# Output the final bill\n",
    "print(f\"Your final bill is: ${bill}.\")"
   ]
  },
  {
   "cell_type": "code",
   "execution_count": null,
   "id": "ad6b6ea9-3072-4580-826d-6aacd094e719",
   "metadata": {},
   "outputs": [],
   "source": []
  },
  {
   "cell_type": "code",
   "execution_count": null,
   "id": "3ba9b341-f479-4089-8c3f-a95732e2a4b8",
   "metadata": {},
   "outputs": [],
   "source": []
  }
 ],
 "metadata": {
  "kernelspec": {
   "display_name": "Python 3 (ipykernel)",
   "language": "python",
   "name": "python3"
  },
  "language_info": {
   "codemirror_mode": {
    "name": "ipython",
    "version": 3
   },
   "file_extension": ".py",
   "mimetype": "text/x-python",
   "name": "python",
   "nbconvert_exporter": "python",
   "pygments_lexer": "ipython3",
   "version": "3.12.7"
  }
 },
 "nbformat": 4,
 "nbformat_minor": 5
}
