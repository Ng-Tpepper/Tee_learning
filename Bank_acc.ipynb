{
 "cells": [
  {
   "cell_type": "markdown",
   "id": "6c8f7865-05fd-4cf7-ab51-64e46f4ac778",
   "metadata": {},
   "source": [
    "\n",
    "Create a class called \"Account\" that has the following attributes:\n",
    "\n",
    "account_number (string) account_balance (float) account_holder (string) The class should have the following methods:\n",
    "\n",
    "deposit(amount: float) - This method should add the amount passed as an argument to the account balance. withdraw(amount: float) - This method should subtract the amount passed as an argument from the account balance, but only if the account balance is greater than the amount being withdrawn. check_balance() - This method should return the current account balance.\n",
    "\n",
    "Instructions\n",
    "\n",
    "Create a new file called \"bank_account.py\" Define the Account class and its attributes as specified above. Define the deposit() method. It should take in one argument, the amount to be deposited, and add it to the account balance. Define the withdraw() method. It should take in one argument, the amount to be withdrawn, and subtract it from the account balance. The method should only execute the withdrawal if the account balance is greater than or equal to the amount to be withdrawn. Define the check_balance() method. It should return the current account balance. Create an instance of the Account class, and assign it to a variable called \"my_account\". Use the methods of the class to deposit and withdraw money from the account, and check the account balance. Test the program by creating multiple instances of the class and performing different transactions on them."
   ]
  },
  {
   "cell_type": "code",
   "execution_count": 1,
   "id": "1be2576c-515b-4c3e-b664-25b3b6fa4156",
   "metadata": {},
   "outputs": [],
   "source": [
    "# create the class account with 3 different attributes\n",
    "class account:\n",
    "    def __init__(self, account_number: str, account_holder: str, account_balance: float):\n",
    "        self.account_number = account_number\n",
    "        self.account_balance = account_balance\n",
    "        self.account_holder = account_holder\n",
    "        \n",
    "    # creating the deposit method which adds amount specified to account balance\n",
    "    def deposit(self, amount: float):\n",
    "        if amount > 0:\n",
    "            self.account_balance += amount\n",
    "            print(f\"Deposited {amount}, into your bank account and your new balance is {self.account_balance}\")\n",
    "        else:\n",
    "            print('invalid amount')\n",
    "            \n",
    "    # creating the withdraw method which subtracts amount specified from the account balance\n",
    "    def withdraw(self, amount: float):\n",
    "        if amount > 0:\n",
    "            # or if account balance is greater than or equal to amount specified\n",
    "            if self.account_balance >= amount:\n",
    "                self.account_balance -= amount\n",
    "                print(f\"Withdrawn {amount}, from your bank account and your new balance is {self.account_balance}\")\n",
    "            else:\n",
    "                print('insufficient funds')\n",
    "        else:\n",
    "            print('invalid amount')\n",
    "\n",
    "    # return the current account balance\n",
    "    def check_balance(self):\n",
    "        print(f\"Your account balance is {self.account_balance}\")"
   ]
  },
  {
   "cell_type": "code",
   "execution_count": 3,
   "id": "94b0bc8b-d8c5-4f09-ac9f-82dc1aecb4b5",
   "metadata": {},
   "outputs": [
    {
     "name": "stdout",
     "output_type": "stream",
     "text": [
      "Deposited 3500000, into your bank account and your new balance is 103500000\n"
     ]
    }
   ],
   "source": [
    "my_account = account('1234567890', 'Tpepper', 100000000)\n",
    "my_account.deposit(3500000)"
   ]
  },
  {
   "cell_type": "code",
   "execution_count": 5,
   "id": "c9723c34-61c1-43b0-98dd-323b2ccb0081",
   "metadata": {},
   "outputs": [
    {
     "name": "stdout",
     "output_type": "stream",
     "text": [
      "Withdrawn 400000, from your bank account and your new balance is 103100000\n"
     ]
    }
   ],
   "source": [
    "my_account.withdraw(400000)"
   ]
  },
  {
   "cell_type": "code",
   "execution_count": 13,
   "id": "647607a7-8363-4a54-a796-2e1dcd1a6589",
   "metadata": {},
   "outputs": [
    {
     "name": "stdout",
     "output_type": "stream",
     "text": [
      "Your account balance is 103100000\n"
     ]
    }
   ],
   "source": [
    "my_account.check_balance()"
   ]
  },
  {
   "cell_type": "code",
   "execution_count": null,
   "id": "e39225bb-4169-4c86-8e94-88a715729ebe",
   "metadata": {},
   "outputs": [],
   "source": []
  }
 ],
 "metadata": {
  "kernelspec": {
   "display_name": "Python 3 (ipykernel)",
   "language": "python",
   "name": "python3"
  },
  "language_info": {
   "codemirror_mode": {
    "name": "ipython",
    "version": 3
   },
   "file_extension": ".py",
   "mimetype": "text/x-python",
   "name": "python",
   "nbconvert_exporter": "python",
   "pygments_lexer": "ipython3",
   "version": "3.12.7"
  }
 },
 "nbformat": 4,
 "nbformat_minor": 5
}
