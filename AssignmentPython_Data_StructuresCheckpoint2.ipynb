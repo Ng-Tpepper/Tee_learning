{
 "cells": [
  {
   "cell_type": "markdown",
   "id": "ecb9d972-9c8e-4632-96eb-98e06e904d25",
   "metadata": {},
   "source": [
    "### Olalekan Erinola Elebute\n",
    "- Data Science Cohort 7 (GMC)\n",
    "- Python Data Structures Checkpoint"
   ]
  },
  {
   "cell_type": "code",
   "execution_count": 2,
   "id": "9123a1e2-1f7c-48f7-87e2-746008082e29",
   "metadata": {},
   "outputs": [],
   "source": [
    "# Create a list to store the shopping items\n",
    "shopping_list = []"
   ]
  },
  {
   "cell_type": "code",
   "execution_count": 4,
   "id": "718016c3-5210-460e-9366-61c579b2d59e",
   "metadata": {},
   "outputs": [],
   "source": [
    "# Define a maximum limit for the shopping list\n",
    "MAX_ITEMS = 10"
   ]
  },
  {
   "cell_type": "code",
   "execution_count": 24,
   "id": "921cb81c-0110-490c-a92b-5e670f940884",
   "metadata": {},
   "outputs": [],
   "source": [
    "# Function to display the menu\n",
    "def display_menu():\n",
    "    print(\"\\nShopping List Menu:\")\n",
    "    print(\"1. Add item\")\n",
    "    print(\"2. Remove item\")\n",
    "    print(\"3. View items\")\n",
    "    print(\"4. Exit\")"
   ]
  },
  {
   "cell_type": "code",
   "execution_count": 37,
   "id": "b55a926b-4baf-4d55-80ac-5c61442f9fb3",
   "metadata": {},
   "outputs": [],
   "source": [
    "def add_item():\n",
    "    \"\"\"Add an item to the shopping list.\"\"\"\n",
    "    if len(shopping_list) < MAX_ITEMS:\n",
    "        item = input(\"Enter the item to add: \")\n",
    "        shopping_list.append(item)\n",
    "        print(f\"{item} has been added to the shopping list.\")\n",
    "    else:\n",
    "        print(\"Cannot add more items. The shopping list is full.\")"
   ]
  },
  {
   "cell_type": "code",
   "execution_count": 39,
   "id": "08397885-9d9b-4003-838e-da8acf7a05b2",
   "metadata": {},
   "outputs": [],
   "source": [
    "def remove_item():\n",
    "    \"\"\"Remove an item from the shopping list.\"\"\"\n",
    "    item = input(\"Enter the item to remove: \")\n",
    "    if item in shopping_list:\n",
    "        shopping_list.remove(item)\n",
    "        print(f\"{item} has been removed from the shopping list.\")\n",
    "    else:\n",
    "        print(f\"{item} not found in the shopping list.\")"
   ]
  },
  {
   "cell_type": "code",
   "execution_count": 41,
   "id": "99e35a88-c4bb-4a83-9cea-4cf29198d583",
   "metadata": {},
   "outputs": [],
   "source": [
    "def view_items():\n",
    "    \"\"\"Display the current shopping list items.\"\"\"\n",
    "    if shopping_list:\n",
    "        print(\"Current shopping list:\")\n",
    "        for index, item in enumerate(shopping_list, start=1):\n",
    "            print(f\"{index}. {item}\")\n",
    "    else:\n",
    "        print(\"The shopping list is empty.\")\n"
   ]
  },
  {
   "cell_type": "code",
   "execution_count": 43,
   "id": "2c877970-58c6-4163-81a8-778ea8c648a2",
   "metadata": {},
   "outputs": [],
   "source": [
    "def main():\n",
    "    \"\"\"Main program loop to manage the shopping list.\"\"\"\n",
    "    while True:\n",
    "        display_menu()\n",
    "        choice = input(\"Please select an option (1-4): \")"
   ]
  },
  {
   "cell_type": "code",
   "execution_count": 79,
   "id": "c3b800cb-6678-464e-8e79-363889fe8040",
   "metadata": {},
   "outputs": [],
   "source": [
    "def main():\n",
    "    \"\"\"Main program loop to manage the shopping list.\"\"\"\n",
    "    while True:\n",
    "        display_menu()\n",
    "        choice = input(\"Please select an option (1-4): \")\n",
    "\n",
    "        if choice == '1':\n",
    "            add_item()\n",
    "        elif choice == '2':\n",
    "            remove_item()\n",
    "        elif choice == '3':\n",
    "            view_items()\n",
    "        elif choice == '4':\n",
    "            print(\"Exiting the program.\")\n",
    "            break\n",
    "        else:\n",
    "            print(\"Invalid selection. Please choose a valid option.\")"
   ]
  },
  {
   "cell_type": "code",
   "execution_count": 125,
   "id": "78176738-64d0-4a7a-b71f-e920dda1ee8b",
   "metadata": {},
   "outputs": [
    {
     "name": "stdout",
     "output_type": "stream",
     "text": [
      "\n",
      "Shopping List Menu:\n",
      "1. Add item\n",
      "2. Remove item\n",
      "3. View items\n",
      "4. Exit\n"
     ]
    },
    {
     "name": "stdin",
     "output_type": "stream",
     "text": [
      "Please select an option (1-4):  3\n"
     ]
    },
    {
     "name": "stdout",
     "output_type": "stream",
     "text": [
      "Current shopping list:\n",
      "1. Shoe\n",
      "2. Shoe\n",
      "3. Cloths\n",
      "4. Gift\n",
      "\n",
      "Shopping List Menu:\n",
      "1. Add item\n",
      "2. Remove item\n",
      "3. View items\n",
      "4. Exit\n"
     ]
    },
    {
     "name": "stdin",
     "output_type": "stream",
     "text": [
      "Please select an option (1-4):  4\n"
     ]
    },
    {
     "name": "stdout",
     "output_type": "stream",
     "text": [
      "Exiting the program.\n"
     ]
    }
   ],
   "source": [
    "if __name__ == \"__main__\":\n",
    "    main()"
   ]
  },
  {
   "cell_type": "code",
   "execution_count": 83,
   "id": "f8acee5e-5cfc-4583-a40f-3dcc35aa9e50",
   "metadata": {},
   "outputs": [],
   "source": [
    "sample_item = (\"Apples\", 5)  # (item name, quantity)"
   ]
  },
  {
   "cell_type": "code",
   "execution_count": 85,
   "id": "1d4636ec-fbbe-4630-8d40-ccc4d7c0b7ff",
   "metadata": {},
   "outputs": [],
   "source": [
    "unique_items = set(shopping_list)"
   ]
  },
  {
   "cell_type": "code",
   "execution_count": 87,
   "id": "5f43ba92-f0d0-4870-9b18-30e4dba89bc7",
   "metadata": {},
   "outputs": [],
   "source": [
    "# Dictionary to store item quantities\n",
    "item_quantities = {item: shopping_list.count(item) for item in unique_items}\n"
   ]
  },
  {
   "cell_type": "code",
   "execution_count": 123,
   "id": "507f4dfa-bfe8-4847-b335-976577fcd26a",
   "metadata": {},
   "outputs": [
    {
     "name": "stdout",
     "output_type": "stream",
     "text": [
      "\n",
      "Unique items in the shopping list: {'2'}\n",
      "Item quantities: {'2': 1}\n"
     ]
    }
   ],
   "source": [
    "print(\"\\nUnique items in the shopping list:\", unique_items)\n",
    "print(\"Item quantities:\", item_quantities)"
   ]
  },
  {
   "cell_type": "code",
   "execution_count": null,
   "id": "c82e16f5-1090-4532-8c14-d6e95d10b587",
   "metadata": {},
   "outputs": [],
   "source": []
  }
 ],
 "metadata": {
  "kernelspec": {
   "display_name": "Python 3 (ipykernel)",
   "language": "python",
   "name": "python3"
  },
  "language_info": {
   "codemirror_mode": {
    "name": "ipython",
    "version": 3
   },
   "file_extension": ".py",
   "mimetype": "text/x-python",
   "name": "python",
   "nbconvert_exporter": "python",
   "pygments_lexer": "ipython3",
   "version": "3.12.7"
  }
 },
 "nbformat": 4,
 "nbformat_minor": 5
}
