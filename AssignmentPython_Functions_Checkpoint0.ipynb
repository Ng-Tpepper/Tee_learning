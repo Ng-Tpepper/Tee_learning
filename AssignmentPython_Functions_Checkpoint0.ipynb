{
 "cells": [
  {
   "cell_type": "markdown",
   "id": "e9eb81cd-3458-4141-b215-ef085fee94d6",
   "metadata": {},
   "source": [
    "## Olalekan Erinola Elebute\n",
    "- Data Science Cohort 7 (GMC)\n",
    "- Python Functions Checkpoint"
   ]
  },
  {
   "cell_type": "markdown",
   "id": "0c2d86ac-623a-4fdc-9465-78fb6349d21a",
   "metadata": {},
   "source": [
    "#### What You're Aiming For\n",
    "-Create a calculator program that allows the user to perform mathematical operations\n",
    " on two numbers using basic functions and a dictionary to store the operations. The program should also have the ability to continue calculations with the result of previous calculations."
   ]
  },
  {
   "cell_type": "code",
   "execution_count": 1,
   "id": "00802244-5ac3-4952-872c-fd40aee01534",
   "metadata": {},
   "outputs": [],
   "source": [
    "def add(num1, num2):\n",
    "    return(num1 + num2)"
   ]
  },
  {
   "cell_type": "code",
   "execution_count": 2,
   "id": "33aacbfa-1c93-4478-bcc0-c881d315ff71",
   "metadata": {},
   "outputs": [],
   "source": [
    "def subtract(num1, num2):\n",
    "    return(num1 - num2)"
   ]
  },
  {
   "cell_type": "code",
   "execution_count": 3,
   "id": "03e61a65-fde6-4066-8762-3dc0342d121a",
   "metadata": {},
   "outputs": [],
   "source": [
    "def multiply(num1, nnum2):\n",
    "    return(num1 * num2)"
   ]
  },
  {
   "cell_type": "code",
   "execution_count": 4,
   "id": "f329e2ac-75aa-40c3-abd7-0e7cd725d28c",
   "metadata": {},
   "outputs": [],
   "source": [
    "def divide(num1, num2):\n",
    "    if num2 == 0:\n",
    "        return(\"Error! Division by zero.\")\n",
    "    return(num1 / num2)"
   ]
  },
  {
   "cell_type": "code",
   "execution_count": 5,
   "id": "69aeafed-0ce1-4cbf-8991-204c1797a1b2",
   "metadata": {},
   "outputs": [],
   "source": [
    "# Dictionary to associate operations with thier corresponding functions\n",
    "Operations = {\n",
    "    '+': add,\n",
    "    '-': subtract,\n",
    "    '*': multiply,\n",
    "    '/': divide\n",
    "}"
   ]
  },
  {
   "cell_type": "code",
   "execution_count": 26,
   "id": "87264fef-c59f-4900-9fc4-2dffdb17a572",
   "metadata": {},
   "outputs": [
    {
     "name": "stdin",
     "output_type": "stream",
     "text": [
      "Enter the first number:  5\n"
     ]
    },
    {
     "name": "stdout",
     "output_type": "stream",
     "text": [
      "Available operations:\n",
      "+\n",
      "-\n",
      "*\n",
      "/\n"
     ]
    },
    {
     "name": "stdin",
     "output_type": "stream",
     "text": [
      "Pick an operation:  *\n",
      "Enter the second number:  6\n"
     ]
    },
    {
     "name": "stdout",
     "output_type": "stream",
     "text": [
      "5.0 * 6.0 = 20.0\n"
     ]
    },
    {
     "name": "stdin",
     "output_type": "stream",
     "text": [
      "Would you like to continue with this result as the first number? (yes/no):  no\n",
      "Enter the first number:  4\n"
     ]
    },
    {
     "name": "stdout",
     "output_type": "stream",
     "text": [
      "Available operations:\n",
      "+\n",
      "-\n",
      "*\n",
      "/\n"
     ]
    },
    {
     "name": "stdin",
     "output_type": "stream",
     "text": [
      "Pick an operation:  +\n",
      "Enter the second number:  5\n"
     ]
    },
    {
     "name": "stdout",
     "output_type": "stream",
     "text": [
      "4.0 + 5.0 = 9.0\n"
     ]
    },
    {
     "name": "stdin",
     "output_type": "stream",
     "text": [
      "Would you like to continue with this result as the first number? (yes/no):  yes\n"
     ]
    }
   ],
   "source": [
    "def calculator():\n",
    "    num1 = float(input(\"Enter the first number: \"))\n",
    "    should_continue = True\n",
    "    while should_continue:\n",
    "        print(\"Available operations:\")\n",
    "        for symbol in Operations.keys():\n",
    "            print(symbol)\n",
    "        \n",
    "        operation_symbol = input(\"Pick an operation: \")\n",
    "        \n",
    "        if operation_symbol in Operations:\n",
    "            num2 = float(input(\"Enter the second number: \"))\n",
    "            calculation_function = Operations[operation_symbol]\n",
    "            answer = calculation_function(num1, num2)\n",
    "            \n",
    "            print(f\"{num1} {operation_symbol} {num2} = {answer}\")\n",
    "            \n",
    "            # Ask if the user wants to continue with the result\n",
    "            continue_choice = input(\"Would you like to continue with this result as the first number? (yes/no): \").lower()\n",
    "            if continue_choice == 'yes':\n",
    "                num1 = answer  # Update num1 to the answer\n",
    "            else:\n",
    "                should_continue = False\n",
    "                calculator()  # Start a new calculation\n",
    "            break\n",
    "        else:\n",
    "            print(\"Invalid operation. Please try again.\")\n",
    "\n",
    "# Start the calculator\n",
    "calculator()"
   ]
  },
  {
   "cell_type": "code",
   "execution_count": 28,
   "id": "0c50143a-7920-43c5-b1f7-dded917101d8",
   "metadata": {},
   "outputs": [
    {
     "name": "stdin",
     "output_type": "stream",
     "text": [
      "Enter the first number:  8\n"
     ]
    },
    {
     "name": "stdout",
     "output_type": "stream",
     "text": [
      "Available operations:\n",
      "+\n",
      "-\n",
      "*\n",
      "/\n"
     ]
    },
    {
     "name": "stdin",
     "output_type": "stream",
     "text": [
      "Pick an operation:  -\n",
      "Enter the second number:  4\n"
     ]
    },
    {
     "name": "stdout",
     "output_type": "stream",
     "text": [
      "8.0 - 4.0 = 4.0\n"
     ]
    },
    {
     "name": "stdin",
     "output_type": "stream",
     "text": [
      "Would you like to continue with this result as the first number? (yes/no):  yes\n"
     ]
    }
   ],
   "source": [
    "calculator()"
   ]
  },
  {
   "cell_type": "code",
   "execution_count": null,
   "id": "cc5d41ad-0ece-45d1-a463-f750ea5ce68e",
   "metadata": {},
   "outputs": [],
   "source": []
  }
 ],
 "metadata": {
  "kernelspec": {
   "display_name": "Python 3 (ipykernel)",
   "language": "python",
   "name": "python3"
  },
  "language_info": {
   "codemirror_mode": {
    "name": "ipython",
    "version": 3
   },
   "file_extension": ".py",
   "mimetype": "text/x-python",
   "name": "python",
   "nbconvert_exporter": "python",
   "pygments_lexer": "ipython3",
   "version": "3.12.7"
  }
 },
 "nbformat": 4,
 "nbformat_minor": 5
}
