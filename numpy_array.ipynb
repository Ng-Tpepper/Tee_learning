{
 "cells": [
  {
   "cell_type": "code",
   "execution_count": 1,
   "id": "4e4546e4-7a93-478c-9c0e-46294fb6893c",
   "metadata": {},
   "outputs": [],
   "source": [
    "# Import the numpy library and create the \"grades\" array as specified \n",
    "import numpy as np\n",
    "grades = np.array([85, 90, 88, 92, 95, 80, 75, 98, 89, 83])"
   ]
  },
  {
   "cell_type": "code",
   "execution_count": 5,
   "id": "46433808-464a-4a8e-81ab-e4113510cdce",
   "metadata": {},
   "outputs": [],
   "source": [
    "# Calculate mean\n",
    "grades_mean = np.mean(grades)\n",
    "# median\n",
    "grades_median = np.median(grades)\n",
    "# standard deviation\n",
    "grades_std = np.std(grades)\n",
    "grades_max = np.max(grades)\n",
    "grades_min = np.min(grades)\n",
    "# Use numpy function to sort the grades in ascending order.\n",
    "sorted_grades = np.sort(grades)\n",
    "# Use numpy function to find the index of the highest grade in the array\n",
    "index_highest_grade = np.argmax(grades)\n",
    "# Use numpy function to count the number of students who scored above 90.\n",
    "students_above_90 = np.sum(grades > 90)\n",
    "# Calculate the percentage of students who scored above 90\n",
    "percentage_above_90 = (students_above_90 / len(grades)) * 100\n",
    "# Calculate the percentage of students who scored below 75\n",
    "students_below_75 = np.sum(grades < 75)\n",
    "percentage_below_75 = (students_below_75 / len(grades)) * 100\n",
    "# Extract all grades above 90 into \"high_performers\"\n",
    "high_performers = grades[grades > 90]\n",
    "# Create a new array \"passing_grades\" with grades above 75\n",
    "passing_grades = grades[grades > 75]"
   ]
  },
  {
   "cell_type": "code",
   "execution_count": 7,
   "id": "22b0bc81-add2-4383-a005-6192ff5de0fe",
   "metadata": {},
   "outputs": [
    {
     "name": "stdout",
     "output_type": "stream",
     "text": [
      "Grades: [85 90 88 92 95 80 75 98 89 83]\n",
      "Mean: 87.5\n",
      "Median: 88.5\n",
      "Standard Deviation: 6.591661399070799\n",
      "Maximum Grade: 98\n",
      "Minimum Grade: 75\n",
      "Sorted Grades: [75 80 83 85 88 89 90 92 95 98]\n",
      "Index of Highest Grade: 7\n",
      "Number of Students Above 90: 3\n",
      "Percentage of Students Above 90: 30.00%\n",
      "Percentage of Students Below 75: 0.00%\n",
      "High Performers: [92 95 98]\n",
      "Passing Grades: [85 90 88 92 95 80 98 89 83]\n"
     ]
    }
   ],
   "source": [
    "# Printing all the results\n",
    "print(f\"Grades: {grades}\")\n",
    "print(f\"Mean: {grades_mean}\")\n",
    "print(f\"Median: {grades_median}\")\n",
    "print(f\"Standard Deviation: {grades_std}\")\n",
    "print(f\"Maximum Grade: {grades_max}\")\n",
    "print(f\"Minimum Grade: {grades_min}\")\n",
    "print(f\"Sorted Grades: {sorted_grades}\")\n",
    "print(f\"Index of Highest Grade: {index_highest_grade}\")\n",
    "print(f\"Number of Students Above 90: {students_above_90}\")\n",
    "print(f\"Percentage of Students Above 90: {percentage_above_90:.2f}%\")\n",
    "print(f\"Percentage of Students Below 75: {percentage_below_75:.2f}%\")\n",
    "print(f\"High Performers: {high_performers}\")\n",
    "print(f\"Passing Grades: {passing_grades}\")"
   ]
  },
  {
   "cell_type": "code",
   "execution_count": null,
   "id": "80ce05ba-83cd-4457-b75c-9f32e51cabe8",
   "metadata": {},
   "outputs": [],
   "source": []
  }
 ],
 "metadata": {
  "kernelspec": {
   "display_name": "Python 3 (ipykernel)",
   "language": "python",
   "name": "python3"
  },
  "language_info": {
   "codemirror_mode": {
    "name": "ipython",
    "version": 3
   },
   "file_extension": ".py",
   "mimetype": "text/x-python",
   "name": "python",
   "nbconvert_exporter": "python",
   "pygments_lexer": "ipython3",
   "version": "3.12.7"
  }
 },
 "nbformat": 4,
 "nbformat_minor": 5
}
